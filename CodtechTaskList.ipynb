{
  "nbformat": 4,
  "nbformat_minor": 0,
  "metadata": {
    "colab": {
      "provenance": []
    },
    "kernelspec": {
      "name": "python3",
      "display_name": "Python 3"
    },
    "language_info": {
      "name": "python"
    }
  },
  "cells": [
    {
      "cell_type": "markdown",
      "source": [
        "### TASK 1 : USE PYSPARK TO CLEAN AND PREPROCESS A LARGE DATASET, HANDLING MISSING VALUES AND DUPLICATES.\n",
        "### DELIVERABLE: A PYTHON SCRIPT OR NOTEBOOK SHOWCASING THE DATA CLEANING PROCESS."
      ],
      "metadata": {
        "id": "vmuB7_NPhCUu"
      }
    },
    {
      "cell_type": "code",
      "execution_count": null,
      "metadata": {
        "colab": {
          "base_uri": "https://localhost:8080/"
        },
        "id": "WaXyowxwe3uT",
        "outputId": "19adfa7e-7fcd-4d5a-8c29-2393e6add54e"
      },
      "outputs": [
        {
          "output_type": "stream",
          "name": "stdout",
          "text": [
            "Requirement already satisfied: pyspark in /usr/local/lib/python3.11/dist-packages (3.5.1)\n",
            "Requirement already satisfied: py4j==0.10.9.7 in /usr/local/lib/python3.11/dist-packages (from pyspark) (0.10.9.7)\n"
          ]
        }
      ],
      "source": [
        "# Install PySpark\n",
        "!pip install pyspark"
      ]
    },
    {
      "cell_type": "code",
      "source": [
        "from pyspark.sql import SparkSession\n",
        "from pyspark.sql.functions import col, when, count, isnan"
      ],
      "metadata": {
        "id": "REz2Bd0NfOrY"
      },
      "execution_count": null,
      "outputs": []
    },
    {
      "cell_type": "code",
      "source": [
        "#Create a SparkSession\n",
        "\n",
        "spark = SparkSession.builder \\\n",
        "    .appName(\"DataCleaning\") \\\n",
        "    .getOrCreate()"
      ],
      "metadata": {
        "id": "CV7TSv7FfOuE"
      },
      "execution_count": null,
      "outputs": []
    },
    {
      "cell_type": "code",
      "source": [
        "#Load the Dataset\n",
        "\n",
        "df = spark.read.csv(\"/content/Dataset .csv\", header=True, inferSchema=True)\n",
        "df.printSchema()\n",
        "df.show(5)"
      ],
      "metadata": {
        "colab": {
          "base_uri": "https://localhost:8080/"
        },
        "id": "cPlXUc7ZfOxH",
        "outputId": "1388704d-8081-457d-89f8-ecc4e0b9f460"
      },
      "execution_count": null,
      "outputs": [
        {
          "output_type": "stream",
          "name": "stdout",
          "text": [
            "root\n",
            " |-- Restaurant ID: string (nullable = true)\n",
            " |-- Restaurant Name: string (nullable = true)\n",
            " |-- Country Code: string (nullable = true)\n",
            " |-- City: string (nullable = true)\n",
            " |-- Address: string (nullable = true)\n",
            " |-- Locality: string (nullable = true)\n",
            " |-- Locality Verbose: string (nullable = true)\n",
            " |-- Longitude: string (nullable = true)\n",
            " |-- Latitude: string (nullable = true)\n",
            " |-- Cuisines: string (nullable = true)\n",
            " |-- Average Cost for two: string (nullable = true)\n",
            " |-- Currency: string (nullable = true)\n",
            " |-- Has Table booking: string (nullable = true)\n",
            " |-- Has Online delivery: string (nullable = true)\n",
            " |-- Is delivering now: string (nullable = true)\n",
            " |-- Switch to order menu: string (nullable = true)\n",
            " |-- Price range: string (nullable = true)\n",
            " |-- Aggregate rating: string (nullable = true)\n",
            " |-- Rating color: string (nullable = true)\n",
            " |-- Rating text: string (nullable = true)\n",
            " |-- Votes: integer (nullable = true)\n",
            "\n",
            "+-------------+--------------------+------------+----------------+--------------------+--------------------+--------------------+----------+---------+--------------------+--------------------+----------------+-----------------+-------------------+-----------------+--------------------+-----------+----------------+------------+-----------+-----+\n",
            "|Restaurant ID|     Restaurant Name|Country Code|            City|             Address|            Locality|    Locality Verbose| Longitude| Latitude|            Cuisines|Average Cost for two|        Currency|Has Table booking|Has Online delivery|Is delivering now|Switch to order menu|Price range|Aggregate rating|Rating color|Rating text|Votes|\n",
            "+-------------+--------------------+------------+----------------+--------------------+--------------------+--------------------+----------+---------+--------------------+--------------------+----------------+-----------------+-------------------+-----------------+--------------------+-----------+----------------+------------+-----------+-----+\n",
            "|      6317637|    Le Petit Souffle|         162|     Makati City|Third Floor, Cent...|Century City Mall...|Century City Mall...|121.027535|14.565443|French, Japanese,...|                1100|Botswana Pula(P)|              Yes|                 No|               No|                  No|          3|             4.8|  Dark Green|  Excellent|  314|\n",
            "|      6304287|    Izakaya Kikufuji|         162|     Makati City|Little Tokyo, 227...|Little Tokyo, Leg...|Little Tokyo, Leg...|121.014101|14.553708|            Japanese|                1200|Botswana Pula(P)|              Yes|                 No|               No|                  No|          3|             4.5|  Dark Green|  Excellent|  591|\n",
            "|      6300002|Heat - Edsa Shang...|         162|Mandaluyong City|Edsa Shangri-La, ...|Edsa Shangri-La, ...|Edsa Shangri-La, ...|121.056831|14.581404|Seafood, Asian, F...|                4000|Botswana Pula(P)|              Yes|                 No|               No|                  No|          4|             4.4|       Green|  Very Good|  270|\n",
            "|      6318506|                Ooma|         162|Mandaluyong City|Third Floor, Mega...|SM Megamall, Orti...|SM Megamall, Orti...|121.056475|14.585318|     Japanese, Sushi|                1500|Botswana Pula(P)|               No|                 No|               No|                  No|          4|             4.9|  Dark Green|  Excellent|  365|\n",
            "|      6314302|         Sambo Kojin|         162|Mandaluyong City|Third Floor, Mega...|SM Megamall, Orti...|SM Megamall, Orti...|121.057508| 14.58445|    Japanese, Korean|                1500|Botswana Pula(P)|              Yes|                 No|               No|                  No|          4|             4.8|  Dark Green|  Excellent|  229|\n",
            "+-------------+--------------------+------------+----------------+--------------------+--------------------+--------------------+----------+---------+--------------------+--------------------+----------------+-----------------+-------------------+-----------------+--------------------+-----------+----------------+------------+-----------+-----+\n",
            "only showing top 5 rows\n",
            "\n"
          ]
        }
      ]
    },
    {
      "cell_type": "code",
      "source": [
        "# Count of missing/null values in each column\n",
        "df.select([count(when(col(c).isNull() | isnan(c), c)).alias(c) for c in df.columns]).show()"
      ],
      "metadata": {
        "colab": {
          "base_uri": "https://localhost:8080/"
        },
        "id": "mfs0DhZafO0E",
        "outputId": "86cd78eb-af04-49b6-a881-6a016da9bdcf"
      },
      "execution_count": null,
      "outputs": [
        {
          "output_type": "stream",
          "name": "stdout",
          "text": [
            "+-------------+---------------+------------+----+-------+--------+----------------+---------+--------+--------+--------------------+--------+-----------------+-------------------+-----------------+--------------------+-----------+----------------+------------+-----------+-----+\n",
            "|Restaurant ID|Restaurant Name|Country Code|City|Address|Locality|Locality Verbose|Longitude|Latitude|Cuisines|Average Cost for two|Currency|Has Table booking|Has Online delivery|Is delivering now|Switch to order menu|Price range|Aggregate rating|Rating color|Rating text|Votes|\n",
            "+-------------+---------------+------------+----+-------+--------+----------------+---------+--------+--------+--------------------+--------+-----------------+-------------------+-----------------+--------------------+-----------+----------------+------------+-----------+-----+\n",
            "|            0|              0|           0|   0|      0|       6|               6|        6|       6|      15|                   6|       6|                6|                  6|                6|                   6|          6|               8|           8|         10|   12|\n",
            "+-------------+---------------+------------+----+-------+--------+----------------+---------+--------+--------+--------------------+--------+-----------------+-------------------+-----------------+--------------------+-----------+----------------+------------+-----------+-----+\n",
            "\n"
          ]
        }
      ]
    },
    {
      "cell_type": "code",
      "source": [
        "#Drop rows with any nulls\n",
        "df_clean = df.dropna()"
      ],
      "metadata": {
        "id": "tG-GvdM7fO3F"
      },
      "execution_count": null,
      "outputs": []
    },
    {
      "cell_type": "code",
      "source": [
        "#Remove Duplicates\n",
        "df_clean = df_clean.dropDuplicates()"
      ],
      "metadata": {
        "id": "ErTAqKirfO6f"
      },
      "execution_count": null,
      "outputs": []
    },
    {
      "cell_type": "code",
      "source": [
        "#Save or Show the Cleaned Data\n",
        "df_clean.show(10)  # View first 10 cleaned records\n",
        "\n",
        "# Optionally save to new CSV\n",
        "df_clean.coalesce(1).write.csv(\"cleaned_dataset.csv\", header=True)"
      ],
      "metadata": {
        "colab": {
          "base_uri": "https://localhost:8080/"
        },
        "id": "nqspTuVff9ah",
        "outputId": "07f5252b-dbf8-47ff-c023-e6b655d647e4"
      },
      "execution_count": null,
      "outputs": [
        {
          "output_type": "stream",
          "name": "stdout",
          "text": [
            "+-------------+-----------------+------------+---------+--------------------+--------------------+--------------------+-----------+-----------+--------------------+--------------------+------------------+-----------------+-------------------+-----------------+--------------------+-----------+----------------+------------+-----------+-----+\n",
            "|Restaurant ID|  Restaurant Name|Country Code|     City|             Address|            Locality|    Locality Verbose|  Longitude|   Latitude|            Cuisines|Average Cost for two|          Currency|Has Table booking|Has Online delivery|Is delivering now|Switch to order menu|Price range|Aggregate rating|Rating color|Rating text|Votes|\n",
            "+-------------+-----------------+------------+---------+--------------------+--------------------+--------------------+-----------+-----------+--------------------+--------------------+------------------+-----------------+-------------------+-----------------+--------------------+-----------+----------------+------------+-----------+-----+\n",
            "|     17334390|     Soho Hibachi|         216|   Dalton|1014 Battlefield ...|     Fort Oglethorpe|Fort Oglethorpe, ...| -85.246237| 34.9528157|            Japanese|                  10|         Dollar($)|               No|                 No|               No|                  No|          1|             4.3|       Green|  Very Good|  116|\n",
            "|     17579992|      Dharma Blue|         216|Pensacola|300 S Alcaniz Str...|           Pensacola|Pensacola, Pensacola|   -87.2092|    30.4101|      Seafood, Sushi|                  40|         Dollar($)|               No|                 No|               No|                  No|          3|             4.1|       Green|  Very Good|  669|\n",
            "|      5602751|  Vadakkan Pepper|         214|  Sharjah|Near New City Cen...|         Abu Shagara|Abu Shagara, Sharjah|  55.396984|  25.338089|        South Indian|                  70|Emirati Diram(AED)|               No|                Yes|               No|                  No|          3|             3.8|      Yellow|       Good|  210|\n",
            "|     18359919|           Onesta|           1|Bangalore|Site 15, 15th Cro...|            JP Nagar| JP Nagar, Bangalore|77.59679094|12.90622878|Pizza, Cafe, Italian|                 600|Indian Rupees(Rs.)|               No|                 No|               No|                  No|          2|             4.6|  Dark Green|  Excellent|  781|\n",
            "|        65055|  Barbeque Nation|           1|  Chennai|Shri Devi Park Ho...|            T. Nagar|   T. Nagar, Chennai|   80.23311|  13.045479|North Indian, Con...|                2000|Indian Rupees(Rs.)|               No|                 No|               No|                  No|          4|             4.4|       Green|  Very Good| 3848|\n",
            "|       303765|Wahid Food Corner|           1|  Gurgaon|Plot 100, Sheetla...|           Sector 14|  Sector 14, Gurgaon| 77.0347763| 28.4758171|        North Indian|                 400|Indian Rupees(Rs.)|               No|                 No|               No|                  No|          1|             2.8|      Orange|    Average|    6|\n",
            "|         2180|      Bakers Oven|           1|  Gurgaon|141, Sector 31-32...|           Sector 31|  Sector 31, Gurgaon| 77.0509348| 28.4529609|    Bakery, Desserts|                 600|Indian Rupees(Rs.)|               No|                Yes|               No|                  No|          2|             3.6|      Yellow|       Good|  183|\n",
            "|         2087|          Kwality|           1|  Gurgaon|85, HUDA Market, ...|           Sector 56|  Sector 56, Gurgaon| 77.0992084| 28.4251185|Chinese, Mughlai,...|                 650|Indian Rupees(Rs.)|               No|                 No|               No|                  No|          2|             2.4|         Red|       Poor|   52|\n",
            "|       304276|       Green Leaf|           1|  Gurgaon|The Habitare Hote...|The Habitare Hote...|The Habitare Hote...| 77.0395696| 28.4664035|North Indian, Sou...|                 800|Indian Rupees(Rs.)|              Yes|                 No|               No|                  No|          2|               3|      Orange|    Average|    6|\n",
            "|      3300416|NESCAF� Illusions|           1|   Nagpur|Oppsite Dharampet...|          Dharampeth|  Dharampeth, Nagpur| 79.0651371|21.13685791|                Cafe|                 350|Indian Rupees(Rs.)|               No|                 No|               No|                  No|          2|             3.9|      Yellow|       Good|  140|\n",
            "+-------------+-----------------+------------+---------+--------------------+--------------------+--------------------+-----------+-----------+--------------------+--------------------+------------------+-----------------+-------------------+-----------------+--------------------+-----------+----------------+------------+-----------+-----+\n",
            "only showing top 10 rows\n",
            "\n"
          ]
        }
      ]
    },
    {
      "cell_type": "markdown",
      "source": [
        "### TASK 2 : USE APACHE SPARK TO ANALYZE A LARGE DATASET, IMPLEMENTING OPERATIONS LIKE FILTERING, GROUPING, AND AGGREGATIONS.\n",
        "\n",
        "### DELIVERABLE: A SPARK JOB SCRIPT WITH OUTPUT SHOWING ANALYSIS RESULTS."
      ],
      "metadata": {
        "id": "RDCFLY2-iCt1"
      }
    },
    {
      "cell_type": "code",
      "source": [
        "#Setup and Import\n",
        "from pyspark.sql.functions import col, count, avg, sum, max, min"
      ],
      "metadata": {
        "id": "zR52VWa6iCYB"
      },
      "execution_count": null,
      "outputs": []
    },
    {
      "cell_type": "code",
      "source": [
        "#Create SparkSession\n",
        "spark = SparkSession.builder \\\n",
        "    .appName(\"SparkDataAnalysis\") \\\n",
        "    .getOrCreate()\n"
      ],
      "metadata": {
        "id": "m5l-cDM3juMT"
      },
      "execution_count": null,
      "outputs": []
    },
    {
      "cell_type": "code",
      "source": [
        "# Load Dataset\n",
        "df = spark.read.csv(\"Dataset .csv\", header=True, inferSchema=True)\n",
        "df.show(5)\n"
      ],
      "metadata": {
        "colab": {
          "base_uri": "https://localhost:8080/"
        },
        "id": "3p4vM73cj3tk",
        "outputId": "6ddae10c-4d16-4dfa-f82e-a2bc64048917"
      },
      "execution_count": null,
      "outputs": [
        {
          "output_type": "stream",
          "name": "stdout",
          "text": [
            "+-------------+--------------------+------------+----------------+--------------------+--------------------+--------------------+----------+---------+--------------------+--------------------+----------------+-----------------+-------------------+-----------------+--------------------+-----------+----------------+------------+-----------+-----+\n",
            "|Restaurant ID|     Restaurant Name|Country Code|            City|             Address|            Locality|    Locality Verbose| Longitude| Latitude|            Cuisines|Average Cost for two|        Currency|Has Table booking|Has Online delivery|Is delivering now|Switch to order menu|Price range|Aggregate rating|Rating color|Rating text|Votes|\n",
            "+-------------+--------------------+------------+----------------+--------------------+--------------------+--------------------+----------+---------+--------------------+--------------------+----------------+-----------------+-------------------+-----------------+--------------------+-----------+----------------+------------+-----------+-----+\n",
            "|      6317637|    Le Petit Souffle|         162|     Makati City|Third Floor, Cent...|Century City Mall...|Century City Mall...|121.027535|14.565443|French, Japanese,...|                1100|Botswana Pula(P)|              Yes|                 No|               No|                  No|          3|             4.8|  Dark Green|  Excellent|  314|\n",
            "|      6304287|    Izakaya Kikufuji|         162|     Makati City|Little Tokyo, 227...|Little Tokyo, Leg...|Little Tokyo, Leg...|121.014101|14.553708|            Japanese|                1200|Botswana Pula(P)|              Yes|                 No|               No|                  No|          3|             4.5|  Dark Green|  Excellent|  591|\n",
            "|      6300002|Heat - Edsa Shang...|         162|Mandaluyong City|Edsa Shangri-La, ...|Edsa Shangri-La, ...|Edsa Shangri-La, ...|121.056831|14.581404|Seafood, Asian, F...|                4000|Botswana Pula(P)|              Yes|                 No|               No|                  No|          4|             4.4|       Green|  Very Good|  270|\n",
            "|      6318506|                Ooma|         162|Mandaluyong City|Third Floor, Mega...|SM Megamall, Orti...|SM Megamall, Orti...|121.056475|14.585318|     Japanese, Sushi|                1500|Botswana Pula(P)|               No|                 No|               No|                  No|          4|             4.9|  Dark Green|  Excellent|  365|\n",
            "|      6314302|         Sambo Kojin|         162|Mandaluyong City|Third Floor, Mega...|SM Megamall, Orti...|SM Megamall, Orti...|121.057508| 14.58445|    Japanese, Korean|                1500|Botswana Pula(P)|              Yes|                 No|               No|                  No|          4|             4.8|  Dark Green|  Excellent|  229|\n",
            "+-------------+--------------------+------------+----------------+--------------------+--------------------+--------------------+----------+---------+--------------------+--------------------+----------------+-----------------+-------------------+-----------------+--------------------+-----------+----------------+------------+-----------+-----+\n",
            "only showing top 5 rows\n",
            "\n"
          ]
        }
      ]
    },
    {
      "cell_type": "code",
      "source": [
        "#Basic Filtering\n",
        "filtered_df = df.filter(col(\"Votes\") > 100)\n",
        "filtered_df.show(5)"
      ],
      "metadata": {
        "colab": {
          "base_uri": "https://localhost:8080/"
        },
        "id": "_trcHfaij9jn",
        "outputId": "ba0e2459-a6e9-49da-c543-897f0fc32c60"
      },
      "execution_count": null,
      "outputs": [
        {
          "output_type": "stream",
          "name": "stdout",
          "text": [
            "+-------------+--------------------+------------+----------------+--------------------+--------------------+--------------------+----------+---------+--------------------+--------------------+----------------+-----------------+-------------------+-----------------+--------------------+-----------+----------------+------------+-----------+-----+\n",
            "|Restaurant ID|     Restaurant Name|Country Code|            City|             Address|            Locality|    Locality Verbose| Longitude| Latitude|            Cuisines|Average Cost for two|        Currency|Has Table booking|Has Online delivery|Is delivering now|Switch to order menu|Price range|Aggregate rating|Rating color|Rating text|Votes|\n",
            "+-------------+--------------------+------------+----------------+--------------------+--------------------+--------------------+----------+---------+--------------------+--------------------+----------------+-----------------+-------------------+-----------------+--------------------+-----------+----------------+------------+-----------+-----+\n",
            "|      6317637|    Le Petit Souffle|         162|     Makati City|Third Floor, Cent...|Century City Mall...|Century City Mall...|121.027535|14.565443|French, Japanese,...|                1100|Botswana Pula(P)|              Yes|                 No|               No|                  No|          3|             4.8|  Dark Green|  Excellent|  314|\n",
            "|      6304287|    Izakaya Kikufuji|         162|     Makati City|Little Tokyo, 227...|Little Tokyo, Leg...|Little Tokyo, Leg...|121.014101|14.553708|            Japanese|                1200|Botswana Pula(P)|              Yes|                 No|               No|                  No|          3|             4.5|  Dark Green|  Excellent|  591|\n",
            "|      6300002|Heat - Edsa Shang...|         162|Mandaluyong City|Edsa Shangri-La, ...|Edsa Shangri-La, ...|Edsa Shangri-La, ...|121.056831|14.581404|Seafood, Asian, F...|                4000|Botswana Pula(P)|              Yes|                 No|               No|                  No|          4|             4.4|       Green|  Very Good|  270|\n",
            "|      6318506|                Ooma|         162|Mandaluyong City|Third Floor, Mega...|SM Megamall, Orti...|SM Megamall, Orti...|121.056475|14.585318|     Japanese, Sushi|                1500|Botswana Pula(P)|               No|                 No|               No|                  No|          4|             4.9|  Dark Green|  Excellent|  365|\n",
            "|      6314302|         Sambo Kojin|         162|Mandaluyong City|Third Floor, Mega...|SM Megamall, Orti...|SM Megamall, Orti...|121.057508| 14.58445|    Japanese, Korean|                1500|Botswana Pula(P)|              Yes|                 No|               No|                  No|          4|             4.8|  Dark Green|  Excellent|  229|\n",
            "+-------------+--------------------+------------+----------------+--------------------+--------------------+--------------------+----------+---------+--------------------+--------------------+----------------+-----------------+-------------------+-----------------+--------------------+-----------+----------------+------------+-----------+-----+\n",
            "only showing top 5 rows\n",
            "\n"
          ]
        }
      ]
    },
    {
      "cell_type": "code",
      "source": [
        "# Grouping + Aggregation\n",
        "# Example: Group by a categorical column (say \"category\") and count occurrences\n",
        "grouped_df = df.groupBy(\"City\").agg(count(\"*\").alias(\"count\"))\n",
        "grouped_df.show()"
      ],
      "metadata": {
        "colab": {
          "base_uri": "https://localhost:8080/"
        },
        "id": "zKEzKvHLkFXD",
        "outputId": "4c58d8a6-d563-49af-f376-5ef99108fc5e"
      },
      "execution_count": null,
      "outputs": [
        {
          "output_type": "stream",
          "name": "stdout",
          "text": [
            "+--------------------+-----+\n",
            "|                City|count|\n",
            "+--------------------+-----+\n",
            "|           Bangalore|   20|\n",
            "|           Tangerang|    2|\n",
            "|               Kochi|   20|\n",
            "|          Aurangabad|   20|\n",
            "|           Faridabad|  251|\n",
            "|            Armidale|    1|\n",
            "|              Monroe|    1|\n",
            "|            Savannah|   20|\n",
            "|          New Delhi\"|    1|\n",
            "|              Mysore|   20|\n",
            "|Huda City Centre ...|    1|\n",
            "|           Bras�_lia|   20|\n",
            "|            Valdosta|   20|\n",
            "|           Edinburgh|   20|\n",
            "|           Singapore|   20|\n",
            "|       San Juan City|    2|\n",
            "|          Manchester|   20|\n",
            "|             Jakarta|   16|\n",
            "|          Beechworth|    1|\n",
            "|               Patna|   20|\n",
            "+--------------------+-----+\n",
            "only showing top 20 rows\n",
            "\n"
          ]
        }
      ]
    },
    {
      "cell_type": "code",
      "source": [
        "# Multiple aggregations\n",
        "agg_df = df.groupBy(\"City\").agg(\n",
        "    avg(\"Votes\").alias(\"avg_votes\"),\n",
        "    sum(\"Votes\").alias(\"total_votes\"),\n",
        "    max(\"Votes\").alias(\"max_votes\")\n",
        ")\n",
        "agg_df.show()"
      ],
      "metadata": {
        "colab": {
          "base_uri": "https://localhost:8080/"
        },
        "id": "8S5X0f3vmccF",
        "outputId": "fc198166-dd9c-42e5-fe92-3a17ac27f10a"
      },
      "execution_count": null,
      "outputs": [
        {
          "output_type": "stream",
          "name": "stdout",
          "text": [
            "+--------------------+------------------+-----------+---------+\n",
            "|                City|         avg_votes|total_votes|max_votes|\n",
            "+--------------------+------------------+-----------+---------+\n",
            "|           Bangalore|           2805.75|      56115|    10934|\n",
            "|           Tangerang|            1183.5|       2367|     2212|\n",
            "|               Kochi|            359.95|       7199|      722|\n",
            "|          Aurangabad|              64.8|       1296|      240|\n",
            "|           Faridabad|25.840637450199203|       6486|      799|\n",
            "|            Armidale|              25.0|         25|       25|\n",
            "|              Monroe|              65.0|         65|       65|\n",
            "|            Savannah|            768.85|      15377|     1803|\n",
            "|          New Delhi\"|              NULL|       NULL|     NULL|\n",
            "|              Mysore|             212.9|       4258|      393|\n",
            "|Huda City Centre ...|              NULL|       NULL|     NULL|\n",
            "|           Bras�_lia|             10.85|        217|       30|\n",
            "|            Valdosta|             210.0|       4200|      575|\n",
            "|           Edinburgh|             112.3|       2246|      329|\n",
            "|           Singapore|              32.0|        608|       35|\n",
            "|       San Juan City|             340.5|        681|      458|\n",
            "|          Manchester|             203.8|       4076|      745|\n",
            "|             Jakarta|          742.6875|      11883|     1662|\n",
            "|          Beechworth|             237.0|        237|      237|\n",
            "|               Patna|              76.0|       1520|      162|\n",
            "+--------------------+------------------+-----------+---------+\n",
            "only showing top 20 rows\n",
            "\n"
          ]
        }
      ]
    },
    {
      "cell_type": "code",
      "source": [
        "agg_df.coalesce(1).write.csv(\"aggregated_results.csv\", header=True)\n"
      ],
      "metadata": {
        "id": "-1Y8oEk9mcpz"
      },
      "execution_count": null,
      "outputs": []
    }
  ]
}